{
 "cells": [
  {
   "cell_type": "markdown",
   "id": "c6a1ddfd-2730-4a2a-8cd9-6d3c09813f10",
   "metadata": {},
   "source": [
    "This code processes AMT in situ data. We are using files from AMT 18, 19, 20, 22, 24, 25, and 28. The in situ data include: cell concentrations from flow cytometry, high performance liquid chromatography (HPLC) phytoplankton pigment concentrations, POC concentrations, inorganic nutrient concentrations, temperature and salinity."
   ]
  },
  {
   "cell_type": "code",
   "execution_count": 1,
   "id": "500a96f2-2b65-41ad-80c0-2b51011ed8ae",
   "metadata": {},
   "outputs": [],
   "source": [
    "import csv\n",
    "import os\n",
    "\n",
    "import cartopy.crs as ccrs\n",
    "import earthaccess\n",
    "import xarray as xr\n",
    "import matplotlib.pyplot as plt\n",
    "from datetime import datetime\n",
    "import numpy as np\n",
    "import dask.array as da\n",
    "from   dask.distributed import Client\n",
    "import cartopy\n",
    "import cartopy.crs as ccrs\n",
    "from scipy import stats\n",
    "import matplotlib\n",
    "import matplotlib.colors as colors\n",
    "from matplotlib import lines\n",
    "from cartopy.util import add_cyclic_point\n",
    "from cartopy.mpl.gridliner import LONGITUDE_FORMATTER, LATITUDE_FORMATTER\n",
    "import matplotlib.ticker as mticker \n",
    "import cartopy.mpl.ticker as cticker\n",
    "import pandas as pd"
   ]
  },
  {
   "cell_type": "markdown",
   "id": "2d29d7bc-e6ad-4d6e-8c52-7d946e29ef71",
   "metadata": {},
   "source": [
    "Navigate to the right folder and load data."
   ]
  },
  {
   "cell_type": "code",
   "execution_count": 18,
   "id": "2bf467b8-babc-4a0a-849e-c99a7a8f2576",
   "metadata": {},
   "outputs": [],
   "source": [
    "os.chdir('../surf_all_data/')\n",
    "FCM_df = pd.read_csv('AMT_surf_FCM.csv')\n",
    "HPLC_df = pd.read_csv('AMT_surf_HPLC.csv')\n",
    "POC_df = pd.read_csv('AMT_surf_POC.csv')\n",
    "Cphyto_df = pd.read_csv('AMT_surf_Cphyto.csv')\n",
    "nuts_df = pd.read_csv('AMT_surf_nutrients.csv')\n",
    "TS_df = pd.read_csv('AMT_surf_TS.csv')"
   ]
  },
  {
   "cell_type": "markdown",
   "id": "9a1334b7-e751-4695-812a-a8a7c79137ce",
   "metadata": {},
   "source": [
    "Test that we loaded the correct data by plotting the locations of each variable on a global map."
   ]
  },
  {
   "cell_type": "code",
   "execution_count": 20,
   "id": "3d333b9b-e823-46f5-8e25-a89a23ed57b3",
   "metadata": {},
   "outputs": [],
   "source": [
    "lat_FCM = FCM_df.Lat\n",
    "lon_FCM = FCM_df.Lon\n",
    "lat_HPLC = HPLC_df.Lat\n",
    "lon_HPLC = HPLC_df.Lon\n",
    "lat_POC = POC_df.Lat\n",
    "lon_POC = POC_df.Lon\n",
    "lat_Cphyto = Cphyto_df[\"Latitude (degrees N)\"]\n",
    "lon_Cphyto = Cphyto_df[\"Longitude (degrees E)\"]\n",
    "lat_nuts = nuts_df.Lat\n",
    "lon_nuts = nuts_df.Lon\n",
    "lat_TS = TS_df[\"Latitude (degree N)\"]\n",
    "lon_TS = TS_df[\"Longitude (degree E)\"]\n",
    "\n"
   ]
  },
  {
   "cell_type": "code",
   "execution_count": null,
   "id": "0f16cb3f-652e-4f4f-a6ba-ebf8e9b62798",
   "metadata": {},
   "outputs": [],
   "source": []
  }
 ],
 "metadata": {
  "kernelspec": {
   "display_name": "Python 3 (ipykernel)",
   "language": "python",
   "name": "python3"
  },
  "language_info": {
   "codemirror_mode": {
    "name": "ipython",
    "version": 3
   },
   "file_extension": ".py",
   "mimetype": "text/x-python",
   "name": "python",
   "nbconvert_exporter": "python",
   "pygments_lexer": "ipython3",
   "version": "3.11.11"
  }
 },
 "nbformat": 4,
 "nbformat_minor": 5
}
